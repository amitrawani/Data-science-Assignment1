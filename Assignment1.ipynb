{
 "cells": [
  {
   "cell_type": "code",
   "execution_count": null,
   "id": "c4b46a97-4b76-4008-84ca-92d53d9a3d83",
   "metadata": {},
   "outputs": [],
   "source": [
    "Q1. Explain with an example each when to use a for loop and a while loop.\n",
    "\n",
    "Ans: Sometimes we want to repeat a set of statements in our program for instance: Print 1 to 100\n",
    "Loops make it easy for a programmer to tell the computer, which set of instructions to repeat and how!\n",
    "\n",
    "Primarily there are two types of loops in python:-\n",
    "1. while loop\n",
    "2. for loop\n",
    "\n",
    "while loop: \n",
    "The syntax of a while loop:\n",
    "while condition:                 => The block keeps executing until the condition is true.\n",
    "    # Body of the loop\n",
    "    \n",
    "In while loops, the condition is checked first. if it evaluates to true, the body of the loop is executed, otherwise not!\n",
    "if the loop is entered, the process of [condition check & execution] is continued until the condition becomes false.\n",
    "\n",
    "example:"
   ]
  },
  {
   "cell_type": "code",
   "execution_count": 2,
   "id": "03640c23-a0ae-47c5-bd1d-1ce37e688981",
   "metadata": {},
   "outputs": [
    {
     "name": "stdout",
     "output_type": "stream",
     "text": [
      "amit\n",
      "amit\n",
      "amit\n",
      "amit\n",
      "amit\n"
     ]
    }
   ],
   "source": [
    "#example:\n",
    "i = 0\n",
    "while i<5:\n",
    "    print(\"amit\")\n",
    "    i = i+1"
   ]
  },
  {
   "cell_type": "code",
   "execution_count": null,
   "id": "bcadd60d-3b25-4a28-bd0e-d3df279f562d",
   "metadata": {},
   "outputs": [],
   "source": [
    "2. for loop: A loop is used to iterate through a sequence like list, tuple or string[iterables]\n",
    "The syntax of a for loop is:\n",
    "    "
   ]
  },
  {
   "cell_type": "code",
   "execution_count": 7,
   "id": "31629277-0a7e-4259-82ac-946462d01fa0",
   "metadata": {},
   "outputs": [
    {
     "name": "stdout",
     "output_type": "stream",
     "text": [
      "1\n",
      "5\n",
      "6\n"
     ]
    }
   ],
   "source": [
    "#example\n",
    "l = [1,5,6]\n",
    "for item in l:\n",
    "    print(item)"
   ]
  },
  {
   "cell_type": "code",
   "execution_count": 10,
   "id": "a2e8a4f0-f791-49c7-bd97-13ba5e1fe5de",
   "metadata": {},
   "outputs": [
    {
     "name": "stdin",
     "output_type": "stream",
     "text": [
      "enter your number 0\n"
     ]
    },
    {
     "name": "stdout",
     "output_type": "stream",
     "text": [
      "sum: 55\n",
      "Product: 3628800\n"
     ]
    }
   ],
   "source": [
    "'''Q2. Write a python program to print the sum and product of the first 10 natural numbers using for\n",
    "and while loop.'''\n",
    "\n",
    "sum = 0\n",
    "product = 1\n",
    "a = int(input(\"enter your number\"))\n",
    "for i in range(1,11):\n",
    "    sum += i\n",
    "    product *= i\n",
    "print(\"sum:\", sum)\n",
    "print(\"Product:\", product)"
   ]
  },
  {
   "cell_type": "code",
   "execution_count": 11,
   "id": "e527f720-4512-423f-aa93-2754fc145452",
   "metadata": {},
   "outputs": [
    {
     "name": "stdin",
     "output_type": "stream",
     "text": [
      "Enter the number of units consumed:  310\n"
     ]
    },
    {
     "name": "stdout",
     "output_type": "stream",
     "text": [
      "The total electricity bill is: Rs. 2250.0\n"
     ]
    }
   ],
   "source": [
    "'''Q3. Create a python program to compute the electricity bill for a household.\n",
    "The per-unit charges in rupees are as follows: For the first 100 units, the user will be charged Rs. 4.5 per\n",
    "unit, for the next 100 units, the user will be charged Rs. 6 per unit, and for the next 100 units, the user will\n",
    "be charged Rs. 10 per unit, After 300 units and above the user will be charged Rs. 20 per unit.\n",
    "You are required to take the units of electricity consumed in a month from the user as input.\n",
    "Your program must pass this test case: when the unit of electricity consumed by the user in a month is\n",
    "310, the total electricity bill should be 2250.'''\n",
    "\n",
    "units = int(input(\"Enter the number of units consumed: \"))\n",
    "bill = 0\n",
    "if units <= 100:\n",
    "    bill = units * 4.5\n",
    "elif units <= 200:\n",
    "    bill = 100 * 4.5 + (units - 100) * 6\n",
    "elif units <= 300:\n",
    "    bill = 100 * 4.5 + 100 * 6 + (units - 200) * 10\n",
    "else:\n",
    "    bill = 100 * 4.5 + 100 * 6 + 100 * 10 + (units - 300) * 20\n",
    "print(\"The total electricity bill is: Rs.\", bill)"
   ]
  },
  {
   "cell_type": "code",
   "execution_count": 12,
   "id": "6502b3f3-c83c-4fd5-aca6-086e38d6452b",
   "metadata": {},
   "outputs": [
    {
     "name": "stdout",
     "output_type": "stream",
     "text": [
      "Numbers whose cube is divisible by 4 or 5: [2, 4, 5, 6, 8, 10, 12, 14, 15, 16, 18, 20, 22, 24, 25, 26, 28, 30, 32, 34, 35, 36, 38, 40, 42, 44, 45, 46, 48, 50, 52, 54, 55, 56, 58, 60, 62, 64, 65, 66, 68, 70, 72, 74, 75, 76, 78, 80, 82, 84, 85, 86, 88, 90, 92, 94, 95, 96, 98, 100]\n",
      "Numbers whose cube is divisible by 4 or 5: [2, 4, 5, 6, 8, 10, 12, 14, 15, 16, 18, 20, 22, 24, 25, 26, 28, 30, 32, 34, 35, 36, 38, 40, 42, 44, 45, 46, 48, 50, 52, 54, 55, 56, 58, 60, 62, 64, 65, 66, 68, 70, 72, 74, 75, 76, 78, 80, 82, 84, 85, 86, 88, 90, 92, 94, 95, 96, 98, 100, 2, 4, 5, 6, 8, 10, 12, 14, 15, 16, 18, 20, 22, 24, 25, 26, 28, 30, 32, 34, 35, 36, 38, 40, 42, 44, 45, 46, 48, 50, 52, 54, 55, 56, 58, 60, 62, 64, 65, 66, 68, 70, 72, 74, 75, 76, 78, 80, 82, 84, 85, 86, 88, 90, 92, 94, 95, 96, 98, 100]\n"
     ]
    }
   ],
   "source": [
    "'''Q4. Create a list of numbers from 1 to 100. Use for loop and while loop to calculate the cube of each\n",
    "number and if the cube of that number is divisible by 4 or 5 then append that number in a list and print\n",
    "that list.'''\n",
    "\n",
    "result = []\n",
    "for i in range(1, 101):\n",
    "    cube = i ** 3\n",
    "    if cube % 4 == 0 or cube % 5 == 0:\n",
    "        result.append(i)\n",
    "print(\"Numbers whose cube is divisible by 4 or 5:\", result)\n",
    "\n",
    "counter = 1\n",
    "while counter <= 100:\n",
    "    cube = counter ** 3\n",
    "    if cube % 4 == 0 or cube % 5 == 0:\n",
    "        result.append(counter)\n",
    "    counter += 1\n",
    "print(\"Numbers whose cube is divisible by 4 or 5:\", result)\n"
   ]
  },
  {
   "cell_type": "code",
   "execution_count": 17,
   "id": "1273cf0b-fd50-4e7f-b6b4-029353002580",
   "metadata": {},
   "outputs": [
    {
     "name": "stdout",
     "output_type": "stream",
     "text": [
      "Number of vowels in the string: 12\n"
     ]
    }
   ],
   "source": [
    "'''Q5. Write a program to filter count vowels in the below-given string.\n",
    "string = \"I want to become a data scientist\"'''\n",
    "\n",
    "string = \"I want to become a data scientist\"\n",
    "count = 0\n",
    "\n",
    "for char in string:\n",
    "    if char in 'aeiouAEIOU':\n",
    "        count += 1\n",
    "\n",
    "print(\"Number of vowels in the string:\", count)\n",
    "\n"
   ]
  },
  {
   "cell_type": "code",
   "execution_count": null,
   "id": "f4591a3d-2283-43ee-bd6d-15e3bed016d9",
   "metadata": {},
   "outputs": [],
   "source": []
  }
 ],
 "metadata": {
  "kernelspec": {
   "display_name": "Python 3 (ipykernel)",
   "language": "python",
   "name": "python3"
  },
  "language_info": {
   "codemirror_mode": {
    "name": "ipython",
    "version": 3
   },
   "file_extension": ".py",
   "mimetype": "text/x-python",
   "name": "python",
   "nbconvert_exporter": "python",
   "pygments_lexer": "ipython3",
   "version": "3.10.8"
  }
 },
 "nbformat": 4,
 "nbformat_minor": 5
}
